{
  "nbformat": 4,
  "nbformat_minor": 0,
  "metadata": {
    "colab": {
      "provenance": [],
      "authorship_tag": "ABX9TyMt4EkYRTRiNGC3IhZyJlzv",
      "include_colab_link": true
    },
    "kernelspec": {
      "name": "python3",
      "display_name": "Python 3"
    },
    "language_info": {
      "name": "python"
    }
  },
  "cells": [
    {
      "cell_type": "markdown",
      "metadata": {
        "id": "view-in-github",
        "colab_type": "text"
      },
      "source": [
        "<a href=\"https://colab.research.google.com/github/lunacandido/deep_learning_pytorch_luna_cursoalura/blob/main/pooling_batchNorm.ipynb\" target=\"_parent\"><img src=\"https://colab.research.google.com/assets/colab-badge.svg\" alt=\"Open In Colab\"/></a>"
      ]
    },
    {
      "cell_type": "markdown",
      "source": [
        "# ***Operação de Pooling***"
      ],
      "metadata": {
        "id": "fpjUk3y6Aiin"
      }
    },
    {
      "cell_type": "code",
      "execution_count": 1,
      "metadata": {
        "id": "1CIi1sBMAQYn"
      },
      "outputs": [],
      "source": [
        "## fazendo os imports necessários\n",
        "import torch\n",
        "from torch import nn\n",
        "from skimage import data"
      ]
    },
    {
      "cell_type": "code",
      "source": [
        "# Criando um tensor e passando pela camada de pooling\n",
        "tensor = torch.FloatTensor([[ [1,2,3],\n",
        "                             [4,5,6],\n",
        "                             [7,8,9]]])\n",
        "print(tensor.size())\n",
        "pool =  nn.MaxPool2d(2, stride = 1)\n",
        "\n",
        "tensor_saida = pool(tensor)\n",
        "\n",
        "print(tensor_saida.size())\n",
        "print(tensor_saida)\n",
        "\n",
        "## a intenção é que ao passar pela camada de pooling a imagem tenha perda de resolução\n",
        "# pois isso causa redução de custo computacional, o que é positivo dependendo do que se quer responder\n"
      ],
      "metadata": {
        "colab": {
          "base_uri": "https://localhost:8080/"
        },
        "id": "PKHCGfO4hFa0",
        "outputId": "207f5418-9f17-4121-936e-ef750981c0f8"
      },
      "execution_count": null,
      "outputs": [
        {
          "output_type": "stream",
          "name": "stdout",
          "text": [
            "torch.Size([1, 3, 3])\n",
            "torch.Size([1, 2, 2])\n",
            "tensor([[[5., 6.],\n",
            "         [8., 9.]]])\n"
          ]
        }
      ]
    },
    {
      "cell_type": "code",
      "source": [
        "## trabalhando com uma imagem| no caso a imagem da astronauta\n",
        "\n",
        "conv = nn.Conv2d(in_channels=3, out_channels=16, \n",
        "                 kernel_size=3, padding=1)\n",
        "\n",
        "rgb = data.astronaut()\n",
        "rgb_tns = torch.Tensor(rgb)\n",
        "rgb_tns = rgb_tns.permute(2, 0, 1).unsqueeze(0)\n",
        "mapa_de_ativacao = conv(rgb_tns)\n",
        "print('Feature Map:', mapa_de_ativacao.shape)\n",
        "## quantidade do kernel é igual ao stride\n",
        "pool = nn.MaxPool2d(kernel_size=2)\n",
        "saida = pool(mapa_de_ativacao)\n",
        "print('saide kernel 2',saida.size())\n",
        "## quantidade de stride = 1\n",
        "pool1 = nn.MaxPool2d(kernel_size=2, stride = 1)\n",
        "saida1 = pool1(mapa_de_ativacao)\n",
        "print('saide kernel 2 e stride 1',saida1.size())\n",
        "## Neste ultimo caso percebe-se menos perda de resolução\n",
        "     \n",
        "\n"
      ],
      "metadata": {
        "colab": {
          "base_uri": "https://localhost:8080/"
        },
        "id": "V8JnnMdHjHIk",
        "outputId": "4a5e7b78-4df2-4f85-ba43-9efedcc003f8"
      },
      "execution_count": 2,
      "outputs": [
        {
          "output_type": "stream",
          "name": "stdout",
          "text": [
            "Feature Map: torch.Size([1, 16, 512, 512])\n",
            "saide kernel 2 torch.Size([1, 16, 256, 256])\n",
            "saide kernel 2 e stride 1 torch.Size([1, 16, 511, 511])\n"
          ]
        }
      ]
    },
    {
      "cell_type": "markdown",
      "source": [
        "# **Batch Normalization**"
      ],
      "metadata": {
        "id": "2kf1RoyalVT1"
      }
    },
    {
      "cell_type": "code",
      "source": [
        "bloco_conv = nn.Sequential(\n",
        "              nn.Conv2d(3, 32 , 3, padding = 1),\n",
        "              nn.BatchNorm2d(32),\n",
        "              nn.ReLU(), \n",
        "              nn.MaxPool2d(kernel_size= 2)\n",
        ")\n",
        "## ReLU = camada de ativação não linear\n",
        "print(rgb_tns.size())\n",
        "\n",
        "saida = bloco_conv(rgb_tns)\n",
        "\n",
        "print('saida após normalização:', saida.size())\n",
        "\n",
        "## fazendo um minibatch com tamanho maior que um\n",
        "minibatch = torch.cat(12*[rgb_tns])\n",
        "\n",
        "print(minibatch.size())\n",
        "saida2 = bloco_conv(minibatch)\n",
        "print('minibatch',saida2.size())\n",
        "     ## saída com a mesma quantidade de batch criada"
      ],
      "metadata": {
        "colab": {
          "base_uri": "https://localhost:8080/"
        },
        "id": "ngrcRysq2ISw",
        "outputId": "41968f4c-ac82-461b-d023-2ff59d519554"
      },
      "execution_count": 9,
      "outputs": [
        {
          "output_type": "stream",
          "name": "stdout",
          "text": [
            "torch.Size([1, 3, 512, 512])\n",
            "saida após normalização: torch.Size([1, 32, 256, 256])\n",
            "torch.Size([12, 3, 512, 512])\n",
            "minibatch torch.Size([12, 32, 256, 256])\n"
          ]
        }
      ]
    }
  ]
}