{
  "nbformat": 4,
  "nbformat_minor": 0,
  "metadata": {
    "colab": {
      "provenance": [],
      "authorship_tag": "ABX9TyNRvkvmryUsW7GDDxeqslR4",
      "include_colab_link": true
    },
    "kernelspec": {
      "name": "python3",
      "display_name": "Python 3"
    },
    "language_info": {
      "name": "python"
    }
  },
  "cells": [
    {
      "cell_type": "markdown",
      "metadata": {
        "id": "view-in-github",
        "colab_type": "text"
      },
      "source": [
        "<a href=\"https://colab.research.google.com/github/lunacandido/deep_learning_pytorch_luna/blob/main/Dataloader_trainingflow.ipynb\" target=\"_parent\"><img src=\"https://colab.research.google.com/assets/colab-badge.svg\" alt=\"Open In Colab\"/></a>"
      ]
    },
    {
      "cell_type": "markdown",
      "source": [
        "# Carregamento de dados e Fluxo de treinamento"
      ],
      "metadata": {
        "id": "yN-J-omdv_2s"
      }
    },
    {
      "cell_type": "markdown",
      "source": [
        "O treinamento é um processo iterativo que segue o seguinte fluxo:\n",
        "\n",
        "Operar a entrada na rede, calcular função de perda, calcular o gradiente e atualizar os pesos,\n",
        "ou seja, consiste em passo de otimização.\n",
        "\n",
        "Batch é a quantidade de amostras vistas numa iteração. Já a época é quando todas as amostras do conjuntos de treino foram vistas pelo modelo, ou seja, iterou o suficiente pra ver todas as amostras de treino. E a cada nova época se refina o modelo.\n",
        "\n",
        "Obs: o gráfico de convergencia é definido com base na época."
      ],
      "metadata": {
        "id": "W8odKDBIxof6"
      }
    },
    {
      "cell_type": "code",
      "source": [
        "\n",
        "import torch\n",
        "from torch import nn , optim\n",
        "## trabalhando com datasets de imagem\n",
        "from torchvision import datasets\n",
        "from torchvision import transforms \n",
        "## importando matplot\n",
        "import matplotlib.pyplot as plt\n",
        "import numpy as np\n",
        "import time\n",
        "\n",
        "args = {\n",
        "    'batch_size': 20,\n",
        "    'num_workers' : 4,\n",
        "    'lr': 1e-4,\n",
        "    'weight_decay':5e-4,\n",
        "    'num_epochs': 2\n",
        "}\n",
        "\n",
        "if torch.cuda.is_available():\n",
        "  args['device'] = torch.device('cuda')\n",
        "else:\n",
        "  args['device'] = torch.device('cpu')\n",
        "\n",
        "print(args['device'])\n",
        "\n",
        "## importando o datasets de interesse\n",
        "treino_set = datasets.MNIST('./', \n",
        "                      train=True, \n",
        "                      transform=transforms.ToTensor(),\n",
        "                      download=True)\n",
        "teste_set = datasets.MNIST('./',\n",
        "                           train=False,\n",
        "                           transform=transforms.ToTensor(),\n",
        "                           download=False)\n",
        "\n",
        "print('Amostras de treino: ' + str(len(treino_set)) + '\\nAmostras de Teste:' + str(len(teste_set)))\n",
        "print(type(treino_set)) ## classe do datasets\n",
        "print(type(treino_set[0])) ## o item de qualquer dataset será uma tupla - (dado, rótulo)\n",
        "print(treino_set[0]) ## imprimindo a tupla para visualização\n",
        "\n",
        "\n",
        "for i in range(4):\n",
        "  dado, rotulo = treino_set[i]\n",
        "\n",
        "  plt.figure()\n",
        "  plt.imshow(dado[0])\n",
        "  plt.title('Rotulo: '+ str(rotulo))\n",
        "\n",
        "# transforms.RandomCrop(n) = realiza 'n' recortes na mesma imagem\n",
        "# basta trocar transforms.ToTensor() por transforms.RandomCrop(n)\n",
        "\n"
      ],
      "metadata": {
        "id": "oaYXLEFivzgi"
      },
      "execution_count": null,
      "outputs": []
    },
    {
      "cell_type": "markdown",
      "source": [
        "# Data loader\n",
        "\n",
        "- Separa os dados em batches\n",
        "- Embaralha os dados\n",
        "- Carrega batches em paralelo utilizando threads"
      ],
      "metadata": {
        "id": "_E2GwCwP5K5C"
      }
    },
    {
      "cell_type": "code",
      "source": [
        "## importar o pacote do data loader\n",
        "from torch.utils.data import DataLoader\n",
        "## criando os batchs\n",
        "treino_loader = DataLoader(treino_set, \n",
        "                          batch_size=args['batch_size'], \n",
        "                          shuffle=True, # para embaralhar\n",
        "                          num_workers=args['num_workers'])\n",
        "\n",
        "teste_loader = DataLoader(teste_set, \n",
        "                          batch_size=args['batch_size'], \n",
        "                          shuffle=True, \n",
        "                          num_workers=args['num_workers'])\n",
        "# data loader não pode ser indexado\n",
        "# precisa de comando de iteração\n",
        "# para construir um batch a amostra deve ser tensorial\n",
        "for batch in treino_loader:\n",
        "  \n",
        "  dado, rotulo = batch\n",
        "  print(dado.size(), rotulo.size())\n",
        "\n",
        "  plt.imshow(dado[0][0])\n",
        "  plt.title('Rotulo: '+ str(rotulo[0]) )\n",
        "  break\n",
        "  ## 20 amostra de tamanho 28 por 28"
      ],
      "metadata": {
        "colab": {
          "base_uri": "https://localhost:8080/",
          "height": 353
        },
        "id": "IMf2hLAH5NKL",
        "outputId": "a3d3a2b1-958b-46b3-ac47-563c743157d6"
      },
      "execution_count": 3,
      "outputs": [
        {
          "output_type": "stream",
          "name": "stderr",
          "text": [
            "/usr/local/lib/python3.7/dist-packages/torch/utils/data/dataloader.py:566: UserWarning: This DataLoader will create 4 worker processes in total. Our suggested max number of worker in current system is 2, which is smaller than what this DataLoader is going to create. Please be aware that excessive worker creation might get DataLoader running slow or even freeze, lower the worker number to avoid potential slowness/freeze if necessary.\n",
            "  cpuset_checked))\n"
          ]
        },
        {
          "output_type": "stream",
          "name": "stdout",
          "text": [
            "torch.Size([20, 1, 28, 28]) torch.Size([20])\n"
          ]
        },
        {
          "output_type": "display_data",
          "data": {
            "text/plain": [
              "<Figure size 432x288 with 1 Axes>"
            ],
            "image/png": "[encoded data removed]"
          },
          "metadata": {
            "needs_background": "light"
          }
        }
      ]
    },
    {
      "cell_type": "markdown",
      "source": [
        "### Fazendo o fluxo de treinamento completo"
      ],
      "metadata": {
        "id": "yKqIrP3h7bTQ"
      }
    },
    {
      "cell_type": "code",
      "source": [
        "# Implementando MLP\n",
        "\n",
        "class MLP(nn.Module):\n",
        "\n",
        "  def __init__(self, input_size, hidden_size, out_size):\n",
        "    super(MLP, self).__init__()\n",
        "\n",
        "    self.features  = nn.Sequential(\n",
        "                      nn.Linear(input_size, hidden_size),\n",
        "                      nn.ReLU(),\n",
        "                      nn.Linear(hidden_size, hidden_size),\n",
        "                      nn.ReLU()\n",
        "                    )\n",
        "    self.out     = nn.Linear(hidden_size, out_size)\n",
        "    self.softmax = nn.Softmax()\n",
        "\n",
        "  def forward(self, X):\n",
        "    \n",
        "    X = X.view(X.size(0), -1)\n",
        "\n",
        "    feature = self.features(X)\n",
        "    output  = self.softmax(self.out(feature))\n",
        "\n",
        "    return output\n",
        "\n",
        "input_size  = 28 * 28\n",
        "hidden_size = 128\n",
        "out_size    = 10 #classes\n",
        "\n",
        "torch.manual_seed(42)\n",
        "net = MLP(input_size, hidden_size, out_size).to(args['device']) #cast na GPU "
      ],
      "metadata": {
        "id": "vhBiAEQq7pLr"
      },
      "execution_count": 8,
      "outputs": []
    },
    {
      "cell_type": "code",
      "source": [
        "## Loss\n",
        "\n",
        "criterion = nn.CrossEntropyLoss().to(args['device'])\n",
        "optimizer = optim.Adam(net.parameters(), lr=args['lr'], weight_decay=args['weight_decay'])"
      ],
      "metadata": {
        "id": "5vE01v7VBaTM"
      },
      "execution_count": 9,
      "outputs": []
    },
    {
      "cell_type": "code",
      "source": [
        "# fluxo\n",
        "for epoch in range(args['num_epochs']):\n",
        "  start = time.time()\n",
        "\n",
        "  epoch_loss = []\n",
        "  for batch in treino_loader:\n",
        "    dado, rotulo = batch\n",
        "    # cast \n",
        "    dado   = dado.to(args['device'])\n",
        "    rotulo = rotulo.to(args['device'])\n",
        "    # foward\n",
        "    pred = net(dado)\n",
        "    loss = criterion(pred, rotulo)\n",
        "    epoch_loss.append(loss.cpu().data)\n",
        "    \n",
        "    # Backward\n",
        "    loss.backward()\n",
        "    optimizer.step()\n",
        "  epoch_loss = np.asarray(epoch_loss)\n",
        "  end = time.time()\n",
        "\n",
        "  print(\"Epoca %d, Loss: %.4f +\\- %.4f, Tempo: %.2f\" % (epoch, epoch_loss.mean(), epoch_loss.std(), end-start) )\n",
        "\n"
      ],
      "metadata": {
        "colab": {
          "base_uri": "https://localhost:8080/"
        },
        "id": "Q88X--W8CN0L",
        "outputId": "2c3ef7f6-446b-4ba6-d2d0-32661d0482e5"
      },
      "execution_count": null,
      "outputs": [
        {
          "output_type": "stream",
          "name": "stderr",
          "text": [
            "/usr/local/lib/python3.7/dist-packages/ipykernel_launcher.py:22: UserWarning: Implicit dimension choice for softmax has been deprecated. Change the call to include dim=X as an argument.\n"
          ]
        },
        {
          "output_type": "stream",
          "name": "stdout",
          "text": [
            "Epoca 0, Loss: 1.8603 +\\- 0.1100, Tempo: 25.74\n"
          ]
        }
      ]
    }
  ]
}