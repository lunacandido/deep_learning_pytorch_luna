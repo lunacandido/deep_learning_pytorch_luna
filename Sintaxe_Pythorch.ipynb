{
  "nbformat": 4,
  "nbformat_minor": 0,
  "metadata": {
    "colab": {
      "provenance": [],
      "authorship_tag": "ABX9TyMJU4kohGY9RsDC+RLDXx85",
      "include_colab_link": true
    },
    "kernelspec": {
      "name": "python3",
      "display_name": "Python 3"
    },
    "language_info": {
      "name": "python"
    }
  },
  "cells": [
    {
      "cell_type": "markdown",
      "metadata": {
        "id": "view-in-github",
        "colab_type": "text"
      },
      "source": [
        "<a href=\"https://colab.research.google.com/github/lunacandido/deep_learning_pytorch_luna/blob/main/Sintaxe_Pythorch.ipynb\" target=\"_parent\"><img src=\"https://colab.research.google.com/assets/colab-badge.svg\" alt=\"Open In Colab\"/></a>"
      ]
    },
    {
      "cell_type": "markdown",
      "source": [
        "# **Tensores : array nd-dimensional**\n",
        "\n",
        "matrizes representadas numa estrutura tensorial"
      ],
      "metadata": {
        "id": "13xXTOCiFQcN"
      }
    },
    {
      "cell_type": "code",
      "source": [
        "## converto pra tensor uma lista \n",
        "## obs: só conseguimos se a lista for simétrica\n",
        "import torch\n",
        "lista = [[1,2,3],\n",
        "         [4,5,6]]\n",
        "print(lista)\n",
        "tensor1 = torch.LongTensor(lista)\n",
        "print(tensor1.dtype)\n",
        "print(tensor1)\n",
        "\n",
        "# torch.Long = inteiro\n",
        "# torch.Float = com virgulas\n",
        "# torch.Double = casas aproximadas melhores"
      ],
      "metadata": {
        "colab": {
          "base_uri": "https://localhost:8080/"
        },
        "id": "wg5AbWTbFRoj",
        "outputId": "cc5a09e4-12ab-45d3-b63e-b2888945d950"
      },
      "execution_count": null,
      "outputs": [
        {
          "output_type": "stream",
          "name": "stdout",
          "text": [
            "[[1, 2, 3], [4, 5, 6]]\n",
            "torch.int64\n",
            "tensor([[1, 2, 3],\n",
            "        [4, 5, 6]])\n"
          ]
        }
      ]
    },
    {
      "cell_type": "code",
      "source": [
        "# converter a partir de array\n",
        "# preserva o tipo de array (se é inteiro o array também é inteiro)\n",
        "import numpy as np\n",
        "arr = np.random.rand(3,4) ## array aleatório\n",
        "tns = torch.from_numpy(arr)\n",
        "print(arr)\n",
        "print(tns)"
      ],
      "metadata": {
        "colab": {
          "base_uri": "https://localhost:8080/"
        },
        "id": "pxtuXhqmGvMw",
        "outputId": "89eb9d5e-0c6d-4c62-cd24-b206e85ae4ea"
      },
      "execution_count": null,
      "outputs": [
        {
          "output_type": "stream",
          "name": "stdout",
          "text": [
            "[[2.61580024e-01 3.53179016e-02 7.94582962e-01 5.97001624e-01]\n",
            " [3.18537916e-01 4.85318296e-02 3.12391607e-01 5.76804971e-02]\n",
            " [7.09097680e-01 6.32973723e-04 5.38215851e-01 2.49298359e-01]]\n",
            "tensor([[2.6158e-01, 3.5318e-02, 7.9458e-01, 5.9700e-01],\n",
            "        [3.1854e-01, 4.8532e-02, 3.1239e-01, 5.7680e-02],\n",
            "        [7.0910e-01, 6.3297e-04, 5.3822e-01, 2.4930e-01]], dtype=torch.float64)\n"
          ]
        }
      ]
    },
    {
      "cell_type": "code",
      "source": [
        "tns1 = torch.ones(3,4) ## valores 1\n",
        "tns2 = torch.zeros(3,4) ## valores 0\n",
        "tnsr = torch.randn(3,4) ## valores aleatórios\n",
        "print(tns1)\n",
        "print(tns2)\n",
        "print(tnsr)\n",
        "\n",
        "## convertendo para array numpy\n",
        "arr1 = tnsr.data.numpy()\n",
        "print(arr1)\n",
        "\n",
        "\n",
        "## indexação\n",
        "print(tnsr[:2]) ## acessar uma fatia\n",
        "print(tnsr[1:2])\n",
        "print(tnsr[0,1]) ## acessar uma parte"
      ],
      "metadata": {
        "colab": {
          "base_uri": "https://localhost:8080/"
        },
        "id": "sOV4zAzTH5ur",
        "outputId": "6b1b6165-6d0a-4ebb-e918-c288cb507d78"
      },
      "execution_count": null,
      "outputs": [
        {
          "output_type": "stream",
          "name": "stdout",
          "text": [
            "tensor([[1., 1., 1., 1.],\n",
            "        [1., 1., 1., 1.],\n",
            "        [1., 1., 1., 1.]])\n",
            "tensor([[0., 0., 0., 0.],\n",
            "        [0., 0., 0., 0.],\n",
            "        [0., 0., 0., 0.]])\n",
            "tensor([[-1.0373, -1.1188,  0.7650, -1.2495],\n",
            "        [-0.4998,  0.5779,  0.3380,  2.1376],\n",
            "        [-2.8909, -0.1401, -0.4068, -0.0402]])\n",
            "[[-1.0372521  -1.1187776   0.7649929  -1.249513  ]\n",
            " [-0.4997588   0.5779409   0.33803514  2.1375885 ]\n",
            " [-2.8908973  -0.14007856 -0.40683013 -0.04022977]]\n",
            "tensor([[-1.0373, -1.1188,  0.7650, -1.2495],\n",
            "        [-0.4998,  0.5779,  0.3380,  2.1376]])\n",
            "tensor([[-0.4998,  0.5779,  0.3380,  2.1376]])\n",
            "tensor(-1.1188)\n"
          ]
        }
      ]
    },
    {
      "cell_type": "markdown",
      "source": [
        " operações com tensores"
      ],
      "metadata": {
        "id": "ysbBykc_KANP"
      }
    },
    {
      "cell_type": "code",
      "source": [
        "import torch\n",
        "lista = [[1,2,3],\n",
        "         [4,5,6]]\n",
        "tns = torch.LongTensor(lista)\n",
        "\n",
        "lista1 = [[9,8,7],\n",
        "          [6,5,4]]\n",
        "tns1 = torch.LongTensor(lista1)\n",
        "## para somar ou fazer outras operações básicas (+,-,*,/)\n",
        "## eles devem ter mesma dimensão\n",
        "print(tns + tns1)\n",
        "print(tns - tns1)\n",
        "print(tns * tns1)\n",
        "print(tns / tns1)"
      ],
      "metadata": {
        "id": "7i1DgI1EKFp3",
        "colab": {
          "base_uri": "https://localhost:8080/"
        },
        "outputId": "e5301671-d679-4634-c838-08e180018d69"
      },
      "execution_count": null,
      "outputs": [
        {
          "output_type": "stream",
          "name": "stdout",
          "text": [
            "tensor([[10, 10, 10],\n",
            "        [10, 10, 10]])\n",
            "tensor([[-8, -6, -4],\n",
            "        [-2,  0,  2]])\n",
            "tensor([[ 9, 16, 21],\n",
            "        [24, 25, 24]])\n",
            "tensor([[0.1111, 0.2500, 0.4286],\n",
            "        [0.6667, 1.0000, 1.5000]])\n"
          ]
        }
      ]
    },
    {
      "cell_type": "code",
      "source": [
        "## função size() e view()\n",
        "import torch\n",
        "lista = [[1,2,3],\n",
        "         [4,5,6]]\n",
        "tns = torch.LongTensor(lista)\n",
        "\n",
        "lista1 = [[9,8,7],\n",
        "          [6,5,4]]\n",
        "tns1 = torch.LongTensor(lista1)\n",
        "\n",
        "print(tns.size())\n",
        "print(tns1.size(1))\n",
        "\n",
        "tnsd = torch.randn(2,2,3)\n",
        "print(tnsd)\n",
        "tnsd2 = tnsd.view(4,3)\n",
        "print(tnsd2)\n",
        "tnsd3 = tnsd.view(2,6)\n",
        "print(tnsd3)\n",
        "tnsd1 = tnsd.view(-1) ## função -1 achata o tensor\n",
        "print(tnsd1)"
      ],
      "metadata": {
        "colab": {
          "base_uri": "https://localhost:8080/"
        },
        "id": "sB5Vw67ujGYr",
        "outputId": "240c3011-9c22-4272-f170-d4a08f5ec936"
      },
      "execution_count": null,
      "outputs": [
        {
          "output_type": "stream",
          "name": "stdout",
          "text": [
            "torch.Size([2, 3])\n",
            "3\n",
            "tensor([[[-0.1474,  0.3448,  2.5662],\n",
            "         [-1.5942, -0.4193,  0.8409]],\n",
            "\n",
            "        [[ 0.6239, -0.5834,  1.5175],\n",
            "         [-3.2152, -1.0434,  0.9551]]])\n",
            "tensor([[-0.1474,  0.3448,  2.5662],\n",
            "        [-1.5942, -0.4193,  0.8409],\n",
            "        [ 0.6239, -0.5834,  1.5175],\n",
            "        [-3.2152, -1.0434,  0.9551]])\n",
            "tensor([[-0.1474,  0.3448,  2.5662, -1.5942, -0.4193,  0.8409],\n",
            "        [ 0.6239, -0.5834,  1.5175, -3.2152, -1.0434,  0.9551]])\n",
            "tensor([-0.1474,  0.3448,  2.5662, -1.5942, -0.4193,  0.8409,  0.6239, -0.5834,\n",
            "         1.5175, -3.2152, -1.0434,  0.9551])\n"
          ]
        }
      ]
    },
    {
      "cell_type": "code",
      "source": [
        "# GPU é melhor pra problemas reais\n",
        "import torch\n",
        "\n",
        "tns = torch.randn(1,2)\n",
        "if torch.cuda.is_available():\n",
        "  device = torch.device('cuda')\n",
        "else:\n",
        "  device = torch.device('cpu')\n",
        "print(device)\n",
        "tns = tns.to(device)\n",
        "print(tns)"
      ],
      "metadata": {
        "colab": {
          "base_uri": "https://localhost:8080/"
        },
        "id": "zvOqWhUOldw-",
        "outputId": "566a8bcd-f41d-47ae-94e5-cf365dcf47dc"
      },
      "execution_count": null,
      "outputs": [
        {
          "output_type": "stream",
          "name": "stdout",
          "text": [
            "cpu\n",
            "tensor([[-0.1468,  1.2896]])\n"
          ]
        }
      ]
    },
    {
      "cell_type": "code",
      "source": [
        "# função cat concatena dois tensores\n",
        "# tns_out = torch.cat( (tns1, tns2), dim=0 )\n",
        "# recebe um objeto tipo tupla contendo o conjunto de tensores a ser concatenados, \n",
        "# seguido da dimensão de concatenação. Os tensores devem ter dimensões idênticas,\n",
        "# exceto na dimensão de concatenação."
      ],
      "metadata": {
        "id": "J9chx3Jqmmy8"
      },
      "execution_count": null,
      "outputs": []
    },
    {
      "cell_type": "code",
      "source": [
        "import torch\n",
        "tns = torch.randn(9, 12)\n",
        "tns1 = tns[0:5, 0:4]\n",
        "print(tns1)\n",
        "tns2 = tns[5:, 4:]\n",
        "print(tns2)\n",
        "resultado = torch.mm(tns1, tns2)\n",
        "print(resultado.size())"
      ],
      "metadata": {
        "colab": {
          "base_uri": "https://localhost:8080/"
        },
        "id": "L46nQeCYnAG2",
        "outputId": "ee06f90b-5556-4986-f7b6-77dd3bc66117"
      },
      "execution_count": null,
      "outputs": [
        {
          "output_type": "stream",
          "name": "stdout",
          "text": [
            "tensor([[-0.7977, -0.3331, -1.9172, -1.5077],\n",
            "        [-0.3657,  1.1030,  0.4447,  1.2099],\n",
            "        [ 1.4177,  0.3713, -0.5007, -0.9569],\n",
            "        [ 1.3014,  1.1811,  0.8955, -0.9471],\n",
            "        [-0.1367,  1.9747,  0.3206,  1.0935]])\n",
            "tensor([[ 0.5794, -1.9081,  1.4391,  1.4103,  0.1368, -0.9897,  0.5961, -0.0384],\n",
            "        [ 1.9951, -0.2282, -0.0102, -0.7585,  0.8601,  1.5837,  1.9749, -0.7812],\n",
            "        [ 1.5115, -0.3498, -1.3065, -0.3900, -0.4123, -0.5887, -0.6576,  1.1179],\n",
            "        [-0.1746, -0.4302, -0.3148,  2.0866, -1.5019,  0.9899,  0.5785,  1.5775]])\n",
            "torch.Size([5, 8])\n"
          ]
        }
      ]
    },
    {
      "cell_type": "code",
      "source": [
        "import torch \n",
        "\n",
        "tns1 = torch.randn(7,7,3)\n",
        "tns2 = torch.randn(147,1)\n",
        "tns1 = tns1.view(-1 , 1)\n",
        "print(tns1 + tns2)"
      ],
      "metadata": {
        "colab": {
          "base_uri": "https://localhost:8080/"
        },
        "id": "_TZ816sUnnnl",
        "outputId": "84c5eabf-3bbd-43f7-f1c6-9e7215f761de"
      },
      "execution_count": null,
      "outputs": [
        {
          "output_type": "stream",
          "name": "stdout",
          "text": [
            "tensor([[ 1.6288],\n",
            "        [-1.4469],\n",
            "        [-0.1645],\n",
            "        [-2.1825],\n",
            "        [-0.1626],\n",
            "        [-0.2723],\n",
            "        [-1.2169],\n",
            "        [-1.1196],\n",
            "        [ 0.3776],\n",
            "        [-0.1437],\n",
            "        [-0.1671],\n",
            "        [-0.5020],\n",
            "        [-2.3616],\n",
            "        [-1.0696],\n",
            "        [-0.4283],\n",
            "        [ 1.1818],\n",
            "        [ 0.8206],\n",
            "        [ 1.5506],\n",
            "        [ 0.2924],\n",
            "        [ 2.3736],\n",
            "        [ 1.0676],\n",
            "        [-0.0684],\n",
            "        [-1.4948],\n",
            "        [ 1.1917],\n",
            "        [-1.4145],\n",
            "        [-0.2620],\n",
            "        [ 0.2658],\n",
            "        [-2.3152],\n",
            "        [-0.0552],\n",
            "        [ 1.6610],\n",
            "        [-0.9389],\n",
            "        [ 1.8946],\n",
            "        [-0.1383],\n",
            "        [ 0.9210],\n",
            "        [-0.0174],\n",
            "        [ 2.7572],\n",
            "        [ 0.0892],\n",
            "        [ 0.4371],\n",
            "        [-1.0237],\n",
            "        [-0.6403],\n",
            "        [ 1.7690],\n",
            "        [ 1.8085],\n",
            "        [-0.6223],\n",
            "        [ 2.3523],\n",
            "        [-1.1151],\n",
            "        [ 1.6790],\n",
            "        [ 0.9057],\n",
            "        [ 0.5558],\n",
            "        [ 0.9064],\n",
            "        [-0.6092],\n",
            "        [ 0.1342],\n",
            "        [ 1.0360],\n",
            "        [-1.3687],\n",
            "        [-1.6995],\n",
            "        [ 0.8114],\n",
            "        [-1.4252],\n",
            "        [ 0.3706],\n",
            "        [-0.0262],\n",
            "        [ 0.4314],\n",
            "        [-1.8988],\n",
            "        [-1.2597],\n",
            "        [ 0.9698],\n",
            "        [ 2.1194],\n",
            "        [-0.8705],\n",
            "        [-0.1438],\n",
            "        [ 0.9830],\n",
            "        [ 0.3062],\n",
            "        [ 0.2748],\n",
            "        [-1.7284],\n",
            "        [ 1.1822],\n",
            "        [-0.9909],\n",
            "        [-0.2473],\n",
            "        [ 1.0663],\n",
            "        [ 0.3882],\n",
            "        [-0.5737],\n",
            "        [ 2.9190],\n",
            "        [ 0.7947],\n",
            "        [ 0.6401],\n",
            "        [ 0.3090],\n",
            "        [-1.8858],\n",
            "        [-0.9413],\n",
            "        [ 0.4370],\n",
            "        [ 0.6413],\n",
            "        [-0.6424],\n",
            "        [-1.5604],\n",
            "        [ 2.4629],\n",
            "        [ 1.6769],\n",
            "        [-1.6209],\n",
            "        [-0.1035],\n",
            "        [ 1.0651],\n",
            "        [-0.5362],\n",
            "        [-2.1919],\n",
            "        [ 1.7647],\n",
            "        [-0.7511],\n",
            "        [-2.6589],\n",
            "        [-0.5943],\n",
            "        [ 1.2817],\n",
            "        [ 1.4815],\n",
            "        [ 1.5757],\n",
            "        [-1.2001],\n",
            "        [-0.4276],\n",
            "        [ 1.6628],\n",
            "        [ 1.1448],\n",
            "        [-1.1977],\n",
            "        [ 1.8822],\n",
            "        [ 1.9037],\n",
            "        [ 1.4033],\n",
            "        [-2.4611],\n",
            "        [-1.1641],\n",
            "        [-1.0981],\n",
            "        [-0.5587],\n",
            "        [-2.9694],\n",
            "        [-0.1771],\n",
            "        [-1.5413],\n",
            "        [ 2.3963],\n",
            "        [-0.0886],\n",
            "        [-0.9284],\n",
            "        [-1.6701],\n",
            "        [-0.2859],\n",
            "        [-2.8776],\n",
            "        [-1.4784],\n",
            "        [ 0.9988],\n",
            "        [ 0.6488],\n",
            "        [-0.5739],\n",
            "        [-1.3041],\n",
            "        [ 0.6437],\n",
            "        [ 0.1283],\n",
            "        [ 0.5265],\n",
            "        [-0.1048],\n",
            "        [-0.9503],\n",
            "        [-1.9731],\n",
            "        [ 1.2037],\n",
            "        [ 0.0659],\n",
            "        [-0.7122],\n",
            "        [-0.6635],\n",
            "        [-0.8451],\n",
            "        [ 0.0523],\n",
            "        [-1.0825],\n",
            "        [ 2.3499],\n",
            "        [ 1.0543],\n",
            "        [-2.0111],\n",
            "        [-0.0039],\n",
            "        [ 0.0659],\n",
            "        [ 1.4034],\n",
            "        [ 0.0139],\n",
            "        [-0.5791],\n",
            "        [ 0.6165]])\n"
          ]
        }
      ]
    },
    {
      "cell_type": "markdown",
      "source": [
        "AULA 3\n",
        "Perceptron"
      ],
      "metadata": {
        "id": "OIt07h8Lofu1"
      }
    },
    {
      "cell_type": "markdown",
      "source": [
        "3.1 classificação linear\n",
        "\n",
        "ax + bx + c = 0\n",
        "\n",
        "\n",
        "3.2\n",
        "\n",
        "Perceptron : camada linear\n",
        "\n"
      ],
      "metadata": {
        "id": "tJq07wlvoqX0"
      }
    },
    {
      "cell_type": "code",
      "source": [
        "import torch\n",
        "from torch import nn ## neural network\n",
        "\n",
        "perceptron = nn.Linear(in_features=3, out_features=1)\n",
        "print(perceptron)\n",
        "\n",
        "for nome, tensor in perceptron.named_parameters():\n",
        "  print(nome , tensor.data)\n",
        "\n",
        "  \n",
        "print(perceptron.weight.data)\n",
        "print(perceptron.bias.data)"
      ],
      "metadata": {
        "colab": {
          "base_uri": "https://localhost:8080/"
        },
        "id": "F-HzQVs6dm7Z",
        "outputId": "1d4f8a23-1aca-4219-d144-3c2ab0a98f66"
      },
      "execution_count": null,
      "outputs": [
        {
          "output_type": "stream",
          "name": "stdout",
          "text": [
            "Linear(in_features=3, out_features=1, bias=True)\n",
            "weight tensor([[0.3473, 0.1512, 0.4896]])\n",
            "bias tensor([0.0324])\n",
            "tensor([[0.3473, 0.1512, 0.4896]])\n",
            "tensor([0.0324])\n"
          ]
        }
      ]
    },
    {
      "cell_type": "code",
      "source": [
        "# Camada linear\n",
        "\n",
        "import numpy as np\n",
        "import matplotlib.pyplot as plt\n",
        "\n",
        "a = -2\n",
        "b = 6\n",
        "c = 0.8\n",
        "\n",
        "# ax + by + c = 0\n",
        "# y = (-a*x -c)/b\n",
        "def plotline(a, b, c):\n",
        "  x = np.linspace(-2, 4, 50)\n",
        "  y = (-a*x -c)/b\n",
        "\n",
        "  plt.axvline(0, -1, 1, color='k', linewidth=1) ## definindo parametros da vertical\n",
        "  plt.axhline(0, -2, 4, color='k', linewidth=1)  ## parametros da horizontal\n",
        "  plt.plot(x, y) ## plotando os pontos\n",
        "  plt.grid(True) ## cria malha de pontos imaginárias\n",
        "  \n",
        "plotline(a, b, c)\n",
        "\n",
        "p1 = (-1,1)\n",
        "p2 = (2,0)\n",
        "\n",
        "plt.plot(p1[0],p1[1] , color = 'r' , marker = 'x')\n",
        "plt.plot(p2[0],p2[1], color = 'b' , marker = 'o')\n",
        "\n",
        "ret1 = a * p1[0] + b * p1[1] + c\n",
        "print(ret1)\n",
        "\n",
        "ret2 = a * p2[0] + b * p2[1] + c\n",
        "print(ret2)\n"
      ],
      "metadata": {
        "colab": {
          "base_uri": "https://localhost:8080/",
          "height": 300
        },
        "id": "gzYp0Cz70Ayy",
        "outputId": "af85d00c-b9a6-4c15-bbe6-b1d9ead3c4f2"
      },
      "execution_count": null,
      "outputs": [
        {
          "output_type": "stream",
          "name": "stdout",
          "text": [
            "8.8\n",
            "-3.2\n"
          ]
        },
        {
          "output_type": "display_data",
          "data": {
            "text/plain": [
              "<Figure size 432x288 with 1 Axes>"
            ],
            "image/png": "[encoded data removed]"
          },
          "metadata": {
            "needs_background": "light"
          }
        }
      ]
    },
    {
      "cell_type": "code",
      "source": [
        "## distribuição aleatória pega no site scikit learn\n",
        "from sklearn.datasets import make_classification\n",
        "import matplotlib.pyplot as plt\n",
        "import numpy as np\n",
        "\n",
        "np.random.seed(50)\n",
        "\n",
        "X, Y = make_classification(n_features=2, n_redundant=0, n_informative=1,\n",
        "                             n_clusters_per_class=1)\n",
        "\n",
        "plt.scatter(X[:, 0], X[:, 1], marker='o', c=Y,\n",
        "           edgecolor='k')\n",
        "\n",
        "p = X[-1]\n",
        "print(Y[10])\n",
        "plt.plot(p[0], p[1], marker='x', markersize=20)\n",
        "\n",
        "\n"
      ],
      "metadata": {
        "colab": {
          "base_uri": "https://localhost:8080/",
          "height": 300
        },
        "id": "5369wTgr2Q9p",
        "outputId": "c5d9d221-977f-47b9-df87-a2ef07c0aa48"
      },
      "execution_count": null,
      "outputs": [
        {
          "output_type": "stream",
          "name": "stdout",
          "text": [
            "1\n"
          ]
        },
        {
          "output_type": "execute_result",
          "data": {
            "text/plain": [
              "[<matplotlib.lines.Line2D at 0x7f78a0a1fe50>]"
            ]
          },
          "metadata": {},
          "execution_count": 18
        },
        {
          "output_type": "display_data",
          "data": {
            "text/plain": [
              "<Figure size 432x288 with 1 Axes>"
            ],
            "image/png": "[encoded data removed]"
          },
          "metadata": {
            "needs_background": "light"
          }
        }
      ]
    },
    {
      "cell_type": "code",
      "source": [
        "def plotmodel(w1, w2, b):\n",
        "  \n",
        "  plt.scatter(X[:, 0], X[:, 1], marker='o', c=Y,\n",
        "           edgecolor='k')\n",
        "  \n",
        "  xmin, xmax = plt.gca().get_xlim()\n",
        "  ymin, ymax = plt.gca().get_ylim()\n",
        "  \n",
        "  x = np.linspace(-2, 4, 50)\n",
        "  y = (-w1*x -b)/w2\n",
        "\n",
        "  plt.axvline(0, -1, 1, color='k', linewidth=1)\n",
        "  plt.axhline(0, -2, 4, color='k', linewidth=1)\n",
        "  plt.plot(x, y, label='_nolegend_')\n",
        "  \n",
        "  plt.xlim(xmin, xmax)\n",
        "  plt.ylim(ymin, ymax)\n",
        "  \n",
        "w1 = 5.38 #a\n",
        "w2 = 1  #b\n",
        "b  = -0.4  #c\n",
        "plotmodel(w1, w2, b)\n",
        "\n",
        "p = (-2.5, 2.3)\n",
        "print(w1 * p[0] + w2 * p[1] + b)\n",
        "plt.plot(w1 * p[0] + w2 * p[1] + b, marker = 'o')\n",
        "p5 = (2 , 2)\n",
        "print(w1 * p5[0] + w2 * p5[1] + b )\n",
        "\n",
        "def classify(ponto, w1, w2, b):\n",
        "  ret = w1 * ponto[0] + w2 * ponto[1] + b\n",
        "  \n",
        "  if ret >= 0:\n",
        "    return 1, 'yellow'\n",
        "  else:\n",
        "    return 0, 'blue'\n",
        "  \n",
        "p = (2, -1)\n",
        "classe, cor = classify(p, w1, w2, b)\n",
        "print(classe, cor)\n",
        "\n",
        "plotmodel(w1,w2, b)\n",
        "plt.plot(p[0], p[1], marker='x', color=cor, markersize=10)\n",
        "\n",
        "## acurácia\n",
        "acertos = 0\n",
        "for k in range(len(X)):\n",
        "  categ, _ = classify(X[k], w1, w2, b)\n",
        "  if categ == Y[k]:\n",
        "    acertos += 1\n",
        "    \n",
        "    \n",
        "print(\"Acurácia: {0}\".format(100*acertos/len(X)))"
      ],
      "metadata": {
        "colab": {
          "base_uri": "https://localhost:8080/",
          "height": 334
        },
        "id": "6GXjtIlo28_4",
        "outputId": "4753c2a3-1031-406d-847e-f6e4d0e3e2b1"
      },
      "execution_count": null,
      "outputs": [
        {
          "output_type": "stream",
          "name": "stdout",
          "text": [
            "-11.549999999999999\n",
            "12.36\n",
            "1 yellow\n",
            "Acurácia: 95.0\n"
          ]
        },
        {
          "output_type": "display_data",
          "data": {
            "text/plain": [
              "<Figure size 432x288 with 1 Axes>"
            ],
            "image/png": "[encoded data removed]"
          },
          "metadata": {
            "needs_background": "light"
          }
        }
      ]
    },
    {
      "cell_type": "markdown",
      "source": [
        "Camada linear"
      ],
      "metadata": {
        "id": "TXEKPOF46O2N"
      }
    },
    {
      "cell_type": "code",
      "source": [
        "import torch\n",
        "from torch import nn ## neural network\n",
        "\n",
        "perceptron = nn.Linear(in_features=3, out_features=1)\n",
        "print(perceptron)\n",
        "\n",
        "for nome, tensor in perceptron.named_parameters():\n",
        "  print(nome , tensor.data)\n",
        "\n",
        "  \n",
        "print(perceptron.weight.data)\n",
        "print(perceptron.bias.data)\n",
        "\n",
        "## outra forma de definir\n",
        "w1, w2, w3 = perceptron.weight.data.numpy()[0]\n",
        "b = perceptron.bias.data.numpy()\n",
        "\n",
        "\n"
      ],
      "metadata": {
        "colab": {
          "base_uri": "https://localhost:8080/"
        },
        "id": "DaIOIcvV6QVa",
        "outputId": "5e966a25-3659-4653-eb43-eff0d49fac5d"
      },
      "execution_count": null,
      "outputs": [
        {
          "output_type": "stream",
          "name": "stdout",
          "text": [
            "Linear(in_features=3, out_features=1, bias=True)\n",
            "weight tensor([[-0.2092, -0.3974,  0.1874]])\n",
            "bias tensor([-0.2381])\n",
            "tensor([[-0.2092, -0.3974,  0.1874]])\n",
            "tensor([-0.2381])\n"
          ]
        }
      ]
    },
    {
      "cell_type": "markdown",
      "source": [
        "Função de ativação"
      ],
      "metadata": {
        "id": "eu245NCl67i6"
      }
    },
    {
      "cell_type": "code",
      "source": [
        "import torch\n",
        "from torch import nn\n",
        "## distribuição aleatória pega no site scikit learn\n",
        "from sklearn.datasets import make_classification\n",
        "import matplotlib.pyplot as plt\n",
        "import numpy as np\n",
        "\n",
        "np.random.seed(50)\n",
        "\n",
        "X, Y = make_classification(n_features=2, n_redundant=0, n_informative=1,\n",
        "                             n_clusters_per_class=1)\n",
        "def plotmodel(w1, w2, b):\n",
        "  \n",
        "  plt.scatter(X[:, 0], X[:, 1], marker='o', c=Y,\n",
        "           edgecolor='k')\n",
        "  \n",
        "  xmin, xmax = plt.gca().get_xlim()\n",
        "  ymin, ymax = plt.gca().get_ylim()\n",
        "  \n",
        "  x = np.linspace(-2, 4, 50)\n",
        "  y = (-w1*x -b)/w2\n",
        "\n",
        "  plt.axvline(0, -1, 1, color='k', linewidth=1)\n",
        "  plt.axhline(0, -2, 4, color='k', linewidth=1)\n",
        "  plt.plot(x, y, label='_nolegend_')\n",
        "  \n",
        "  plt.xlim(xmin, xmax)\n",
        "  plt.ylim(ymin, ymax)\n",
        "  \n",
        "w1 = 5.38 #a\n",
        "w2 = 1  #b\n",
        "b  = -0.4  #c\n",
        "plotmodel(w1, w2, b)\n",
        "\n",
        "\n",
        "perceptron = nn.Linear(2,1)\n",
        "sigmoide = nn.Sigmoid()\n",
        "print(perceptron.weight.data)\n",
        "print(perceptron.bias.data)\n",
        "\n",
        "perceptron.weight = nn.Parameter(torch.Tensor([[5.38 , 1]]))\n",
        "perceptron.bias = nn.Parameter(torch.Tensor(([-0.4])))\n",
        "print(perceptron.weight)\n",
        "print(perceptron.bias)\n",
        "# activation = nn.Relu()\n",
        "# activation = nn.Tanh() ## outras funções de ativação\n",
        "markers = ['^' , 'v', '>', '<']\n",
        "cor = ['r','g','b','pink']\n",
        "plt.figure(figsize = (6,8))\n",
        "plotmodel(w1 , w2 , b)\n",
        "for k, idx in enumerate([17, 21, 43, 66]):\n",
        "  x = torch.Tensor(X[idx])\n",
        "  ret = perceptron(x)\n",
        "  act = sigmoide(ret)\n",
        "  act_limiar = 0 if ret.data < 0 else 1\n",
        "  label = 'ret: {:5.2f}'.format(ret.data.numpy()[0]) + ' limiar: {:4.2f}'.format(act_limiar) + 'act: {:5.2f}'.format(act.data.numpy()[0])\n",
        "  plt.plot(x[0] , x[1] , marker = markers[k], color= cor[k] , markersize = 10 , label = label)\n",
        "plt.legend()\n",
        "plt.show()"
      ],
      "metadata": {
        "colab": {
          "base_uri": "https://localhost:8080/",
          "height": 835
        },
        "id": "2SUGswnT7fxk",
        "outputId": "2cf537cb-8fbd-4958-e770-8ca2c2decd4f"
      },
      "execution_count": null,
      "outputs": [
        {
          "output_type": "stream",
          "name": "stdout",
          "text": [
            "tensor([[ 0.6654, -0.2279]])\n",
            "tensor([0.0605])\n",
            "Parameter containing:\n",
            "tensor([[5.3800, 1.0000]], requires_grad=True)\n",
            "Parameter containing:\n",
            "tensor([-0.4000], requires_grad=True)\n"
          ]
        },
        {
          "output_type": "display_data",
          "data": {
            "text/plain": [
              "<Figure size 432x288 with 1 Axes>"
            ],
            "image/png": "[encoded data removed]"
          },
          "metadata": {
            "needs_background": "light"
          }
        },
        {
          "output_type": "display_data",
          "data": {
            "text/plain": [
              "<Figure size 432x576 with 1 Axes>"
            ],
            "image/png": "[encoded data removed]"
          },
          "metadata": {
            "needs_background": "light"
          }
        }
      ]
    },
    {
      "cell_type": "markdown",
      "source": [
        "# **Neural Network**\n",
        "\n",
        "### > multiplos perceptrons em uma camada"
      ],
      "metadata": {
        "id": "PJvhumagJPIx"
      }
    },
    {
      "cell_type": "code",
      "source": [],
      "metadata": {
        "id": "z26HgiOkJoDv"
      },
      "execution_count": null,
      "outputs": []
    }
  ]
}